{
 "cells": [
  {
   "cell_type": "code",
   "execution_count": 1,
   "metadata": {},
   "outputs": [
    {
     "data": {
      "text/plain": [
       "PROBLEM_TYPE              object\n",
       "no_of_cases                int64\n",
       "Avg_pending_calls        float64\n",
       "Avg_resol_time             int64\n",
       "recurrence_freq          float64\n",
       "Replace_percent          float64\n",
       "In_warranty_percent        int64\n",
       "Post_warranty_percent      int64\n",
       "dtype: object"
      ]
     },
     "execution_count": 1,
     "metadata": {},
     "output_type": "execute_result"
    }
   ],
   "source": [
    "import pandas as pd\n",
    "import numpy as np\n",
    "\n",
    "import matplotlib.pylab as plt\n",
    "%matplotlib inline\n",
    "\n",
    "import seaborn as sns\n",
    "from sklearn.model_selection  import train_test_split\n",
    "from sklearn.cluster import KMeans\n",
    "\n",
    "from scipy.stats import zscore\n",
    "\n",
    "#import sklearn.metrics\n",
    "\n",
    "tech_supp_df = pd.read_csv(\"../data/technical_support_data-2.csv\")\n",
    "tech_supp_df.dtypes"
   ]
  },
  {
   "cell_type": "code",
   "execution_count": null,
   "metadata": {},
   "outputs": [],
   "source": [
    "a=C1: {(3,5),(5,4), (4,6)}\n",
    "\n",
    "C2: {(6,0),(8,1), (7,2}\n",
    "\n"
   ]
  },
  {
   "cell_type": "code",
   "execution_count": 7,
   "metadata": {},
   "outputs": [
    {
     "name": "stdout",
     "output_type": "stream",
     "text": [
      "[4.0, 4.0]\n"
     ]
    }
   ],
   "source": [
    "# np.mean([3,5],[5,4],[4,6])\n",
    "\n",
    "data = [ (3,3),(5,5)]\n",
    "average = [sum(x)/len(x) for x in zip(*data)]\n",
    "print(average)\n"
   ]
  },
  {
   "cell_type": "code",
   "execution_count": 8,
   "metadata": {},
   "outputs": [],
   "source": [
    "import math"
   ]
  },
  {
   "cell_type": "code",
   "execution_count": 9,
   "metadata": {},
   "outputs": [
    {
     "data": {
      "text/plain": [
       "4.0"
      ]
     },
     "execution_count": 9,
     "metadata": {},
     "output_type": "execute_result"
    }
   ],
   "source": [
    "math.dist([4,4],[4,0])"
   ]
  },
  {
   "attachments": {},
   "cell_type": "markdown",
   "metadata": {},
   "source": [
    "Notes:\n",
    "- default k means scikit-learn is 8\n",
    "\n",
    "The math. dist() method returns the Euclidean distance between two points (p and q), where p and q are the coordinates of that point. Note: The two points (p and q) must be of the same dimensions.\n",
    "Python math.dist() Method - W3Schools\n"
   ]
  },
  {
   "attachments": {},
   "cell_type": "markdown",
   "metadata": {},
   "source": [
    "References:\n",
    "https://www.w3schools.com/python/ref_math_dist.asp#:~:text=The%20math.,be%20of%20the%20same%20dimensions.\n",
    "https://scikit-learn.org/stable/modules/generated/sklearn.cluster.KMeans.html\n",
    "https://scipy-lectures.org/packages/scikit-learn/index.html\n",
    "https://scikit-learn.org/stable/tutorial/statistical_inference/supervised_learning.html\n",
    "- kmeans returns (searching)[predict sklearn](https://www.google.com/search?q=predict%28%29+sklearn&newwindow=1&sxsrf=APwXEdeERik1E2v89QreZUGr9VxN6NDN_Q%3A1681688703436&ei=f4g8ZLakGoiW8gKl457wBw&oq=predict%28%29+&gs_lcp=Cgxnd3Mtd2l6LXNlcnAQAxgCMgUIABCABDIICAAQigUQkQIyCAgAEIoFEJECMgUIABCABDIFCAAQgAQyBQgAEIAEMgUIABCABDIFCAAQgAQyBQgAEIAEMgUIABCABDoKCAAQRxDWBBCwA0oECEEYAFCpAVipAWCVgAJoAnABeACAATSIATSSAQExmAEAoAEByAEIwAEB&sclient=gws-wiz-serp)\n",
    "- [Getting the average of a list of coordinates in python](https://stackoverflow.com/questions/55153446/getting-the-average-of-a-list-of-coordinates-in-python)\n",
    "- [How to Calculate Centroid in python](https://stackoverflow.com/questions/18714587/how-to-calculate-centroid-in-python)\n",
    "https://en.wikipedia.org/wiki/K-means_clustering#:~:text=k%2Dmeans%20clustering%20is%20a,a%20prototype%20of%20the%20cluster.\n"
   ]
  },
  {
   "attachments": {},
   "cell_type": "markdown",
   "metadata": {},
   "source": [
    "### other references:\n",
    "https://www.analyticsvidhya.com/blog/2019/08/comprehensive-guide-k-means-clustering/\n",
    "\n",
    "https://scikit-learn.org/stable/auto_examples/cluster/plot_kmeans_silhouette_analysis.html\n",
    "\n",
    "https://scikit-learn.org/stable/modules/clustering.html\n"
   ]
  }
 ],
 "metadata": {
  "kernelspec": {
   "display_name": ".venv",
   "language": "python",
   "name": "python3"
  },
  "language_info": {
   "codemirror_mode": {
    "name": "ipython",
    "version": 3
   },
   "file_extension": ".py",
   "mimetype": "text/x-python",
   "name": "python",
   "nbconvert_exporter": "python",
   "pygments_lexer": "ipython3",
   "version": "3.9.13"
  },
  "orig_nbformat": 4
 },
 "nbformat": 4,
 "nbformat_minor": 2
}
